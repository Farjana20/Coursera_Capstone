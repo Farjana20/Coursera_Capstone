{
  "nbformat": 4,
  "nbformat_minor": 0,
  "metadata": {
    "colab": {
      "name": "Untitled0.ipynb",
      "provenance": []
    },
    "kernelspec": {
      "name": "python3",
      "display_name": "Python 3"
    }
  },
  "cells": [
    {
      "cell_type": "code",
      "metadata": {
        "id": "QHCslaR71e2g",
        "outputId": "cd2749fe-a496-40a9-cfe1-8e111c84603b",
        "colab": {
          "base_uri": "https://localhost:8080/",
          "height": 34
        }
      },
      "source": [
        "!pwd\n"
      ],
      "execution_count": 3,
      "outputs": [
        {
          "output_type": "stream",
          "text": [
            "/content\n"
          ],
          "name": "stdout"
        }
      ]
    },
    {
      "cell_type": "code",
      "metadata": {
        "id": "Vhcv4d3x3ZVl"
      },
      "source": [
        "\n",
        "import pandas as pd\n",
        "from geopy.geocoders import Nominatim\n",
        "import folium\n",
        "import requests\n",
        "import numpy as np\n",
        "from sklearn.cluster import KMeans\n",
        "import matplotlib.cm as cm\n",
        "import matplotlib.colors as colors\n",
        "geolocator = Nominatim(user_agent=\"dartford_explorer\")"
      ],
      "execution_count": 19,
      "outputs": []
    },
    {
      "cell_type": "code",
      "metadata": {
        "id": "XTEaH1Vd6KyX",
        "outputId": "4219dacc-21bf-4516-cb98-6b7e29a834d5",
        "colab": {
          "base_uri": "https://localhost:8080/",
          "height": 479
        }
      },
      "source": [
        "file = 'schools-list.csv'\n",
        "df = pd.read_csv(file)\n",
        "\n",
        "df.head()"
      ],
      "execution_count": 20,
      "outputs": [
        {
          "output_type": "execute_result",
          "data": {
            "text/html": [
              "<div>\n",
              "<style scoped>\n",
              "    .dataframe tbody tr th:only-of-type {\n",
              "        vertical-align: middle;\n",
              "    }\n",
              "\n",
              "    .dataframe tbody tr th {\n",
              "        vertical-align: top;\n",
              "    }\n",
              "\n",
              "    .dataframe thead th {\n",
              "        text-align: right;\n",
              "    }\n",
              "</style>\n",
              "<table border=\"1\" class=\"dataframe\">\n",
              "  <thead>\n",
              "    <tr style=\"text-align: right;\">\n",
              "      <th></th>\n",
              "      <th>DFE Code</th>\n",
              "      <th>School Name</th>\n",
              "      <th>Status</th>\n",
              "      <th>Type</th>\n",
              "      <th>Executive headteacher</th>\n",
              "      <th>Headteacher</th>\n",
              "      <th>Address 1</th>\n",
              "      <th>Address 2</th>\n",
              "      <th>Address 3</th>\n",
              "      <th>Post Code</th>\n",
              "      <th>School Wards</th>\n",
              "      <th>Website</th>\n",
              "      <th>Telephone</th>\n",
              "      <th>Fax</th>\n",
              "      <th>Easting</th>\n",
              "      <th>Northings</th>\n",
              "      <th>Longitude</th>\n",
              "      <th>Latitude</th>\n",
              "      <th>NOR May census</th>\n",
              "    </tr>\n",
              "  </thead>\n",
              "  <tbody>\n",
              "    <tr>\n",
              "      <th>0</th>\n",
              "      <td>2005</td>\n",
              "      <td>Abbey Park Academy</td>\n",
              "      <td>Academy</td>\n",
              "      <td>Primary</td>\n",
              "      <td>NaN</td>\n",
              "      <td>Ben Normington</td>\n",
              "      <td>Keighley Close</td>\n",
              "      <td>Illingworth</td>\n",
              "      <td>HALIFAX</td>\n",
              "      <td>HX2 9DG</td>\n",
              "      <td>Illingworth and Mixenden</td>\n",
              "      <td>http://www.abbeyparkacademy.org</td>\n",
              "      <td>01422 246610</td>\n",
              "      <td>01422 246612</td>\n",
              "      <td>406954.415</td>\n",
              "      <td>428786.291</td>\n",
              "      <td>-1.896008</td>\n",
              "      <td>53.755409</td>\n",
              "      <td>217.0</td>\n",
              "    </tr>\n",
              "    <tr>\n",
              "      <th>1</th>\n",
              "      <td>2001</td>\n",
              "      <td>Akroydon Primary Academy</td>\n",
              "      <td>Academy</td>\n",
              "      <td>Primary</td>\n",
              "      <td>Michael Gosling</td>\n",
              "      <td>Emma Hanlon (acting)</td>\n",
              "      <td>Rawson Street North</td>\n",
              "      <td>Boothtown</td>\n",
              "      <td>HALIFAX</td>\n",
              "      <td>HX3 6PU</td>\n",
              "      <td>Town</td>\n",
              "      <td>http://www.akroydonprimary.org/</td>\n",
              "      <td>01422 351291</td>\n",
              "      <td>01422 362835</td>\n",
              "      <td>408888.000</td>\n",
              "      <td>426564.000</td>\n",
              "      <td>-1.866745</td>\n",
              "      <td>53.735406</td>\n",
              "      <td>384.0</td>\n",
              "    </tr>\n",
              "    <tr>\n",
              "      <th>2</th>\n",
              "      <td>5201</td>\n",
              "      <td>All Saints' CE (VA) J and I School</td>\n",
              "      <td>Voluntary aided</td>\n",
              "      <td>Primary</td>\n",
              "      <td>NaN</td>\n",
              "      <td>Mark Sharp</td>\n",
              "      <td>Dudwell Lane</td>\n",
              "      <td>NaN</td>\n",
              "      <td>HALIFAX</td>\n",
              "      <td>HX3 0SD</td>\n",
              "      <td>Skircoat</td>\n",
              "      <td>http://www.allsaintsschoolhalifax.co.uk</td>\n",
              "      <td>01422 367140</td>\n",
              "      <td>01422 383091</td>\n",
              "      <td>409352.000</td>\n",
              "      <td>422704.000</td>\n",
              "      <td>-1.859826</td>\n",
              "      <td>53.700704</td>\n",
              "      <td>211.0</td>\n",
              "    </tr>\n",
              "    <tr>\n",
              "      <th>3</th>\n",
              "      <td>2093</td>\n",
              "      <td>Ash Green Community Primary School</td>\n",
              "      <td>Community</td>\n",
              "      <td>Primary</td>\n",
              "      <td>NaN</td>\n",
              "      <td>Mungo Sheppard</td>\n",
              "      <td>Mixenden Road</td>\n",
              "      <td>Mixenden</td>\n",
              "      <td>HALIFAX</td>\n",
              "      <td>HX2 8QD</td>\n",
              "      <td>Illingworth and Mixenden</td>\n",
              "      <td>http://www.ashgreen.info</td>\n",
              "      <td>01422 244613</td>\n",
              "      <td>01422 244613</td>\n",
              "      <td>406208.000</td>\n",
              "      <td>428106.000</td>\n",
              "      <td>-1.907342</td>\n",
              "      <td>53.749304</td>\n",
              "      <td>492.0</td>\n",
              "    </tr>\n",
              "    <tr>\n",
              "      <th>4</th>\n",
              "      <td>2040</td>\n",
              "      <td>Bailiffe Bridge J and I School</td>\n",
              "      <td>Community</td>\n",
              "      <td>Primary</td>\n",
              "      <td>NaN</td>\n",
              "      <td>Helen Proctor</td>\n",
              "      <td>Victoria Road</td>\n",
              "      <td>Bailiff Bridge</td>\n",
              "      <td>BRIGHOUSE</td>\n",
              "      <td>HD6 4DY</td>\n",
              "      <td>Hipperholme and Lightcliffe</td>\n",
              "      <td>http://www.bailiffebridgeschool.org.uk</td>\n",
              "      <td>01484 713039</td>\n",
              "      <td>01484 722870</td>\n",
              "      <td>414793.756</td>\n",
              "      <td>425320.498</td>\n",
              "      <td>-1.777279</td>\n",
              "      <td>53.724097</td>\n",
              "      <td>208.0</td>\n",
              "    </tr>\n",
              "  </tbody>\n",
              "</table>\n",
              "</div>"
            ],
            "text/plain": [
              "   DFE Code                         School Name  ...   Latitude NOR May census\n",
              "0      2005                  Abbey Park Academy  ...  53.755409          217.0\n",
              "1      2001            Akroydon Primary Academy  ...  53.735406          384.0\n",
              "2      5201  All Saints' CE (VA) J and I School  ...  53.700704          211.0\n",
              "3      2093  Ash Green Community Primary School  ...  53.749304          492.0\n",
              "4      2040      Bailiffe Bridge J and I School  ...  53.724097          208.0\n",
              "\n",
              "[5 rows x 19 columns]"
            ]
          },
          "metadata": {
            "tags": []
          },
          "execution_count": 20
        }
      ]
    },
    {
      "cell_type": "code",
      "metadata": {
        "id": "WZuA85MQ6dEt"
      },
      "source": [
        "schools = df[df['Type']=='Secondary School']\n",
        "\n"
      ],
      "execution_count": 23,
      "outputs": []
    },
    {
      "cell_type": "code",
      "metadata": {
        "id": "tbRyuqfE7YV6",
        "outputId": "0bdadf2a-7182-4600-a7ff-8222d657c6be",
        "colab": {
          "base_uri": "https://localhost:8080/",
          "height": 188
        }
      },
      "source": [
        "schools.drop('Address 1', axis=1, inplace=True)\n",
        "schools.drop('Type', axis=1, inplace=True)\n",
        "schools.index = range(len(schools.index))\n",
        "schools"
      ],
      "execution_count": 22,
      "outputs": [
        {
          "output_type": "stream",
          "text": [
            "/usr/local/lib/python3.6/dist-packages/pandas/core/frame.py:4169: SettingWithCopyWarning: \n",
            "A value is trying to be set on a copy of a slice from a DataFrame\n",
            "\n",
            "See the caveats in the documentation: https://pandas.pydata.org/pandas-docs/stable/user_guide/indexing.html#returning-a-view-versus-a-copy\n",
            "  errors=errors,\n"
          ],
          "name": "stderr"
        },
        {
          "output_type": "execute_result",
          "data": {
            "text/html": [
              "<div>\n",
              "<style scoped>\n",
              "    .dataframe tbody tr th:only-of-type {\n",
              "        vertical-align: middle;\n",
              "    }\n",
              "\n",
              "    .dataframe tbody tr th {\n",
              "        vertical-align: top;\n",
              "    }\n",
              "\n",
              "    .dataframe thead th {\n",
              "        text-align: right;\n",
              "    }\n",
              "</style>\n",
              "<table border=\"1\" class=\"dataframe\">\n",
              "  <thead>\n",
              "    <tr style=\"text-align: right;\">\n",
              "      <th></th>\n",
              "      <th>DFE Code</th>\n",
              "      <th>School Name</th>\n",
              "      <th>Status</th>\n",
              "      <th>Executive headteacher</th>\n",
              "      <th>Headteacher</th>\n",
              "      <th>Address 2</th>\n",
              "      <th>Address 3</th>\n",
              "      <th>Post Code</th>\n",
              "      <th>School Wards</th>\n",
              "      <th>Website</th>\n",
              "      <th>Telephone</th>\n",
              "      <th>Fax</th>\n",
              "      <th>Easting</th>\n",
              "      <th>Northings</th>\n",
              "      <th>Longitude</th>\n",
              "      <th>Latitude</th>\n",
              "      <th>NOR May census</th>\n",
              "    </tr>\n",
              "  </thead>\n",
              "  <tbody>\n",
              "  </tbody>\n",
              "</table>\n",
              "</div>"
            ],
            "text/plain": [
              "Empty DataFrame\n",
              "Columns: [DFE Code, School Name, Status, Executive headteacher, Headteacher, Address 2, Address 3, Post Code, School Wards, Website, Telephone, Fax, Easting, Northings, Longitude, Latitude, NOR May census]\n",
              "Index: []"
            ]
          },
          "metadata": {
            "tags": []
          },
          "execution_count": 22
        }
      ]
    },
    {
      "cell_type": "code",
      "metadata": {
        "id": "Ny-ud1LX9cci",
        "outputId": "de6fbc68-5144-442a-84a4-30abb320d5b6",
        "colab": {
          "base_uri": "https://localhost:8080/",
          "height": 49
        }
      },
      "source": [
        "header_list = ['School Name', 'Post Code', 'Address 1', 'Telephone']\n",
        "schools = schools.reindex(columns = header_list)  \n",
        "schools"
      ],
      "execution_count": 24,
      "outputs": [
        {
          "output_type": "execute_result",
          "data": {
            "text/html": [
              "<div>\n",
              "<style scoped>\n",
              "    .dataframe tbody tr th:only-of-type {\n",
              "        vertical-align: middle;\n",
              "    }\n",
              "\n",
              "    .dataframe tbody tr th {\n",
              "        vertical-align: top;\n",
              "    }\n",
              "\n",
              "    .dataframe thead th {\n",
              "        text-align: right;\n",
              "    }\n",
              "</style>\n",
              "<table border=\"1\" class=\"dataframe\">\n",
              "  <thead>\n",
              "    <tr style=\"text-align: right;\">\n",
              "      <th></th>\n",
              "      <th>School Name</th>\n",
              "      <th>Post Code</th>\n",
              "      <th>Address 1</th>\n",
              "      <th>Telephone</th>\n",
              "    </tr>\n",
              "  </thead>\n",
              "  <tbody>\n",
              "  </tbody>\n",
              "</table>\n",
              "</div>"
            ],
            "text/plain": [
              "Empty DataFrame\n",
              "Columns: [School Name, Post Code, Address 1, Telephone]\n",
              "Index: []"
            ]
          },
          "metadata": {
            "tags": []
          },
          "execution_count": 24
        }
      ]
    },
    {
      "cell_type": "code",
      "metadata": {
        "id": "dNQNxQAX_djx",
        "outputId": "7264f4b4-74e6-49e6-cece-7d50951909d9",
        "colab": {
          "base_uri": "https://localhost:8080/",
          "height": 49
        }
      },
      "source": [
        "\n",
        "\n",
        "schools"
      ],
      "execution_count": 25,
      "outputs": [
        {
          "output_type": "execute_result",
          "data": {
            "text/html": [
              "<div>\n",
              "<style scoped>\n",
              "    .dataframe tbody tr th:only-of-type {\n",
              "        vertical-align: middle;\n",
              "    }\n",
              "\n",
              "    .dataframe tbody tr th {\n",
              "        vertical-align: top;\n",
              "    }\n",
              "\n",
              "    .dataframe thead th {\n",
              "        text-align: right;\n",
              "    }\n",
              "</style>\n",
              "<table border=\"1\" class=\"dataframe\">\n",
              "  <thead>\n",
              "    <tr style=\"text-align: right;\">\n",
              "      <th></th>\n",
              "      <th>School Name</th>\n",
              "      <th>Post Code</th>\n",
              "      <th>Address 1</th>\n",
              "      <th>Telephone</th>\n",
              "    </tr>\n",
              "  </thead>\n",
              "  <tbody>\n",
              "  </tbody>\n",
              "</table>\n",
              "</div>"
            ],
            "text/plain": [
              "Empty DataFrame\n",
              "Columns: [School Name, Post Code, Address 1, Telephone]\n",
              "Index: []"
            ]
          },
          "metadata": {
            "tags": []
          },
          "execution_count": 25
        }
      ]
    },
    {
      "cell_type": "code",
      "metadata": {
        "id": "-K3lSXpT_mmM"
      },
      "source": [
        "pcodes = pd.read_csv('schools-list.csv')\n",
        "pcodes.rename(columns={'postcode':'Post Code'}, inplace=True)\n",
        "pcodes.drop('DFE Code', axis=1, inplace=True)"
      ],
      "execution_count": 27,
      "outputs": []
    },
    {
      "cell_type": "code",
      "metadata": {
        "id": "mO58UtcGAo1u",
        "outputId": "f110cfae-1bab-40ec-9a88-e4fbfa67c430",
        "colab": {
          "base_uri": "https://localhost:8080/",
          "height": 479
        }
      },
      "source": [
        "pcodes.head()"
      ],
      "execution_count": 28,
      "outputs": [
        {
          "output_type": "execute_result",
          "data": {
            "text/html": [
              "<div>\n",
              "<style scoped>\n",
              "    .dataframe tbody tr th:only-of-type {\n",
              "        vertical-align: middle;\n",
              "    }\n",
              "\n",
              "    .dataframe tbody tr th {\n",
              "        vertical-align: top;\n",
              "    }\n",
              "\n",
              "    .dataframe thead th {\n",
              "        text-align: right;\n",
              "    }\n",
              "</style>\n",
              "<table border=\"1\" class=\"dataframe\">\n",
              "  <thead>\n",
              "    <tr style=\"text-align: right;\">\n",
              "      <th></th>\n",
              "      <th>School Name</th>\n",
              "      <th>Status</th>\n",
              "      <th>Type</th>\n",
              "      <th>Executive headteacher</th>\n",
              "      <th>Headteacher</th>\n",
              "      <th>Address 1</th>\n",
              "      <th>Address 2</th>\n",
              "      <th>Address 3</th>\n",
              "      <th>Post Code</th>\n",
              "      <th>School Wards</th>\n",
              "      <th>Website</th>\n",
              "      <th>Telephone</th>\n",
              "      <th>Fax</th>\n",
              "      <th>Easting</th>\n",
              "      <th>Northings</th>\n",
              "      <th>Longitude</th>\n",
              "      <th>Latitude</th>\n",
              "      <th>NOR May census</th>\n",
              "    </tr>\n",
              "  </thead>\n",
              "  <tbody>\n",
              "    <tr>\n",
              "      <th>0</th>\n",
              "      <td>Abbey Park Academy</td>\n",
              "      <td>Academy</td>\n",
              "      <td>Primary</td>\n",
              "      <td>NaN</td>\n",
              "      <td>Ben Normington</td>\n",
              "      <td>Keighley Close</td>\n",
              "      <td>Illingworth</td>\n",
              "      <td>HALIFAX</td>\n",
              "      <td>HX2 9DG</td>\n",
              "      <td>Illingworth and Mixenden</td>\n",
              "      <td>http://www.abbeyparkacademy.org</td>\n",
              "      <td>01422 246610</td>\n",
              "      <td>01422 246612</td>\n",
              "      <td>406954.415</td>\n",
              "      <td>428786.291</td>\n",
              "      <td>-1.896008</td>\n",
              "      <td>53.755409</td>\n",
              "      <td>217.0</td>\n",
              "    </tr>\n",
              "    <tr>\n",
              "      <th>1</th>\n",
              "      <td>Akroydon Primary Academy</td>\n",
              "      <td>Academy</td>\n",
              "      <td>Primary</td>\n",
              "      <td>Michael Gosling</td>\n",
              "      <td>Emma Hanlon (acting)</td>\n",
              "      <td>Rawson Street North</td>\n",
              "      <td>Boothtown</td>\n",
              "      <td>HALIFAX</td>\n",
              "      <td>HX3 6PU</td>\n",
              "      <td>Town</td>\n",
              "      <td>http://www.akroydonprimary.org/</td>\n",
              "      <td>01422 351291</td>\n",
              "      <td>01422 362835</td>\n",
              "      <td>408888.000</td>\n",
              "      <td>426564.000</td>\n",
              "      <td>-1.866745</td>\n",
              "      <td>53.735406</td>\n",
              "      <td>384.0</td>\n",
              "    </tr>\n",
              "    <tr>\n",
              "      <th>2</th>\n",
              "      <td>All Saints' CE (VA) J and I School</td>\n",
              "      <td>Voluntary aided</td>\n",
              "      <td>Primary</td>\n",
              "      <td>NaN</td>\n",
              "      <td>Mark Sharp</td>\n",
              "      <td>Dudwell Lane</td>\n",
              "      <td>NaN</td>\n",
              "      <td>HALIFAX</td>\n",
              "      <td>HX3 0SD</td>\n",
              "      <td>Skircoat</td>\n",
              "      <td>http://www.allsaintsschoolhalifax.co.uk</td>\n",
              "      <td>01422 367140</td>\n",
              "      <td>01422 383091</td>\n",
              "      <td>409352.000</td>\n",
              "      <td>422704.000</td>\n",
              "      <td>-1.859826</td>\n",
              "      <td>53.700704</td>\n",
              "      <td>211.0</td>\n",
              "    </tr>\n",
              "    <tr>\n",
              "      <th>3</th>\n",
              "      <td>Ash Green Community Primary School</td>\n",
              "      <td>Community</td>\n",
              "      <td>Primary</td>\n",
              "      <td>NaN</td>\n",
              "      <td>Mungo Sheppard</td>\n",
              "      <td>Mixenden Road</td>\n",
              "      <td>Mixenden</td>\n",
              "      <td>HALIFAX</td>\n",
              "      <td>HX2 8QD</td>\n",
              "      <td>Illingworth and Mixenden</td>\n",
              "      <td>http://www.ashgreen.info</td>\n",
              "      <td>01422 244613</td>\n",
              "      <td>01422 244613</td>\n",
              "      <td>406208.000</td>\n",
              "      <td>428106.000</td>\n",
              "      <td>-1.907342</td>\n",
              "      <td>53.749304</td>\n",
              "      <td>492.0</td>\n",
              "    </tr>\n",
              "    <tr>\n",
              "      <th>4</th>\n",
              "      <td>Bailiffe Bridge J and I School</td>\n",
              "      <td>Community</td>\n",
              "      <td>Primary</td>\n",
              "      <td>NaN</td>\n",
              "      <td>Helen Proctor</td>\n",
              "      <td>Victoria Road</td>\n",
              "      <td>Bailiff Bridge</td>\n",
              "      <td>BRIGHOUSE</td>\n",
              "      <td>HD6 4DY</td>\n",
              "      <td>Hipperholme and Lightcliffe</td>\n",
              "      <td>http://www.bailiffebridgeschool.org.uk</td>\n",
              "      <td>01484 713039</td>\n",
              "      <td>01484 722870</td>\n",
              "      <td>414793.756</td>\n",
              "      <td>425320.498</td>\n",
              "      <td>-1.777279</td>\n",
              "      <td>53.724097</td>\n",
              "      <td>208.0</td>\n",
              "    </tr>\n",
              "  </tbody>\n",
              "</table>\n",
              "</div>"
            ],
            "text/plain": [
              "                          School Name  ... NOR May census\n",
              "0                  Abbey Park Academy  ...          217.0\n",
              "1            Akroydon Primary Academy  ...          384.0\n",
              "2  All Saints' CE (VA) J and I School  ...          211.0\n",
              "3  Ash Green Community Primary School  ...          492.0\n",
              "4      Bailiffe Bridge J and I School  ...          208.0\n",
              "\n",
              "[5 rows x 18 columns]"
            ]
          },
          "metadata": {
            "tags": []
          },
          "execution_count": 28
        }
      ]
    },
    {
      "cell_type": "code",
      "metadata": {
        "id": "dPadrkjRAsmN"
      },
      "source": [
        "schools = schools.merge(pcodes, how='left', left_on='Post Code' , right_on='Post Code')"
      ],
      "execution_count": 29,
      "outputs": []
    },
    {
      "cell_type": "code",
      "metadata": {
        "id": "0riGtHOfB4Oi"
      },
      "source": [
        "pcodes = pd.read_csv('ukpostcodes.csv')\n",
        "pcodes.rename(columns={'postcode':'Post Code'}, inplace=True)\n",
        "pcodes.drop('id', axis=1, inplace=True)"
      ],
      "execution_count": 32,
      "outputs": []
    },
    {
      "cell_type": "code",
      "metadata": {
        "id": "y4AbHtiYAzrT",
        "outputId": "e2065b4f-b279-4cdf-891f-45fff0fc3ba9",
        "colab": {
          "base_uri": "https://localhost:8080/",
          "height": 103
        }
      },
      "source": [
        "schools.head()"
      ],
      "execution_count": 33,
      "outputs": [
        {
          "output_type": "execute_result",
          "data": {
            "text/html": [
              "<div>\n",
              "<style scoped>\n",
              "    .dataframe tbody tr th:only-of-type {\n",
              "        vertical-align: middle;\n",
              "    }\n",
              "\n",
              "    .dataframe tbody tr th {\n",
              "        vertical-align: top;\n",
              "    }\n",
              "\n",
              "    .dataframe thead th {\n",
              "        text-align: right;\n",
              "    }\n",
              "</style>\n",
              "<table border=\"1\" class=\"dataframe\">\n",
              "  <thead>\n",
              "    <tr style=\"text-align: right;\">\n",
              "      <th></th>\n",
              "      <th>School Name_x</th>\n",
              "      <th>Address 1_x</th>\n",
              "      <th>Telephone_x</th>\n",
              "      <th>School Name_y</th>\n",
              "      <th>Status</th>\n",
              "      <th>Type</th>\n",
              "      <th>Executive headteacher</th>\n",
              "      <th>Headteacher</th>\n",
              "      <th>Address 1_y</th>\n",
              "      <th>Address 2</th>\n",
              "      <th>Address 3</th>\n",
              "      <th>Post Code</th>\n",
              "      <th>School Wards</th>\n",
              "      <th>Website</th>\n",
              "      <th>Telephone_y</th>\n",
              "      <th>Fax</th>\n",
              "      <th>Easting</th>\n",
              "      <th>Northings</th>\n",
              "      <th>Longitude</th>\n",
              "      <th>Latitude</th>\n",
              "      <th>NOR May census</th>\n",
              "    </tr>\n",
              "  </thead>\n",
              "  <tbody>\n",
              "  </tbody>\n",
              "</table>\n",
              "</div>"
            ],
            "text/plain": [
              "Empty DataFrame\n",
              "Columns: [School Name_x, Address 1_x, Telephone_x, School Name_y, Status, Type, Executive headteacher, Headteacher, Address 1_y, Address 2, Address 3, Post Code, School Wards, Website, Telephone_y, Fax, Easting, Northings, Longitude, Latitude, NOR May census]\n",
              "Index: []"
            ]
          },
          "metadata": {
            "tags": []
          },
          "execution_count": 33
        }
      ]
    },
    {
      "cell_type": "code",
      "metadata": {
        "id": "2s7eyXeBA5MP",
        "outputId": "caecbe85-c57d-453d-da75-aa31365f3cbf",
        "colab": {
          "base_uri": "https://localhost:8080/",
          "height": 68
        }
      },
      "source": [
        "dartford=geolocator.geocode('Dartford, GB')\n",
        "print(dartford)\n",
        "print(dartford.latitude)\n",
        "print(dartford.longitude)"
      ],
      "execution_count": 31,
      "outputs": [
        {
          "output_type": "stream",
          "text": [
            "Dartford, Kent, South East, England, United Kingdom\n",
            "51.4443059\n",
            "0.21807\n"
          ],
          "name": "stdout"
        }
      ]
    },
    {
      "cell_type": "code",
      "metadata": {
        "id": "Eujc-YpeBo7j"
      },
      "source": [
        "map_dartford = folium.Map(location=[dartford.latitude, dartford.longitude], zoom_start=10)\n",
        "\n",
        "# add markers to map\n",
        "\n",
        "   \n",
        "   \n",
        "    \n",
        "map_dartford\n",
        "map_dartford.save('dartford.html')"
      ],
      "execution_count": 39,
      "outputs": []
    },
    {
      "cell_type": "code",
      "metadata": {
        "id": "2NzO1lLgBrse",
        "outputId": "d7e0df89-ffcf-431f-9085-cfbecc6efc05",
        "colab": {
          "base_uri": "https://localhost:8080/",
          "height": 68
        }
      },
      "source": [
        "CLIENT_ID = 'AGTECTUHU2A21IV2GQJM4ON0HL0CYTXMHD3JDWRAJD3CQG04' #  Foursquare ID\n",
        "CLIENT_SECRET = 'XUQMS5VZKXP4TYDKKLFFGASNRWSFAO4ZPYIE2KFP4VMVDBDI' #  Foursquare Secret\n",
        "VERSION = '20180605' # Foursquare API version\n",
        "\n",
        "print('Credentails:')\n",
        "print('CLIENT_ID: ' + CLIENT_ID)\n",
        "print('CLIENT_SECRET:' + CLIENT_SECRET)"
      ],
      "execution_count": 40,
      "outputs": [
        {
          "output_type": "stream",
          "text": [
            "Credentails:\n",
            "CLIENT_ID: AGTECTUHU2A21IV2GQJM4ON0HL0CYTXMHD3JDWRAJD3CQG04\n",
            "CLIENT_SECRET:XUQMS5VZKXP4TYDKKLFFGASNRWSFAO4ZPYIE2KFP4VMVDBDI\n"
          ],
          "name": "stdout"
        }
      ]
    },
    {
      "cell_type": "code",
      "metadata": {
        "id": "FXuczxoeDu3G"
      },
      "source": [
        "LIMIT=50\n",
        "def getNearbyVenues(names, latitudes, longitudes, radius=1000):\n",
        "    \n",
        "    venues_list=[]\n",
        "    for name, lat, lng in zip(names, latitudes, longitudes):\n",
        "        print(name)\n",
        "            \n",
        "        # create the API request URL\n",
        "        url = 'https://api.foursquare.com/v2/venues/explore?&client_id={}&client_secret={}&v={}&ll={},{}&radius={}&limit={}'.format(\n",
        "            CLIENT_ID, \n",
        "            CLIENT_SECRET, \n",
        "            VERSION, \n",
        "            lat, \n",
        "            lng, \n",
        "            radius, \n",
        "            LIMIT)\n",
        "            \n",
        "        # make the GET request\n",
        "        results = requests.get(url).json()[\"response\"]['groups'][0]['items']\n",
        "        \n",
        "        # return only relevant information for each nearby venue\n",
        "        venues_list.append([(\n",
        "            name, \n",
        "            lat, \n",
        "            lng, \n",
        "            v['venue']['name'], \n",
        "            v['venue']['location']['lat'], \n",
        "            v['venue']['location']['lng'],  \n",
        "            v['venue']['categories'][0]['name']) for v in results])\n",
        "\n",
        "    nearby_venues = pd.DataFrame([item for venue_list in venues_list for item in venue_list])\n",
        "    nearby_venues.columns = ['Neighbourhood', \n",
        "                  'Neighbourhood Latitude', \n",
        "                  'Neighbourhood Longitude', \n",
        "                  'Venue', \n",
        "                  'Venue Latitude', \n",
        "                  'Venue Longitude', \n",
        "                  'Venue Category']\n",
        "    \n",
        "    return(nearby_venues)"
      ],
      "execution_count": 41,
      "outputs": []
    },
    {
      "cell_type": "code",
      "metadata": {
        "id": "8_VAHnefD28e",
        "outputId": "b8cb9a57-8d6d-439c-bd9f-235452fe5a09",
        "colab": {
          "base_uri": "https://localhost:8080/",
          "height": 299
        }
      },
      "source": [
        "vens = getNearbyVenues(names=['School Name'],latitudes=['Latitude'],longitudes=['Longitude'])"
      ],
      "execution_count": 44,
      "outputs": [
        {
          "output_type": "stream",
          "text": [
            "School Name\n"
          ],
          "name": "stdout"
        },
        {
          "output_type": "error",
          "ename": "KeyError",
          "evalue": "ignored",
          "traceback": [
            "\u001b[0;31m---------------------------------------------------------------------------\u001b[0m",
            "\u001b[0;31mKeyError\u001b[0m                                  Traceback (most recent call last)",
            "\u001b[0;32m<ipython-input-44-51e9aaa4849a>\u001b[0m in \u001b[0;36m<module>\u001b[0;34m()\u001b[0m\n\u001b[0;32m----> 1\u001b[0;31m \u001b[0mvens\u001b[0m \u001b[0;34m=\u001b[0m \u001b[0mgetNearbyVenues\u001b[0m\u001b[0;34m(\u001b[0m\u001b[0mnames\u001b[0m\u001b[0;34m=\u001b[0m\u001b[0;34m[\u001b[0m\u001b[0;34m'School Name'\u001b[0m\u001b[0;34m]\u001b[0m\u001b[0;34m,\u001b[0m\u001b[0mlatitudes\u001b[0m\u001b[0;34m=\u001b[0m\u001b[0;34m[\u001b[0m\u001b[0;34m'Latitude'\u001b[0m\u001b[0;34m]\u001b[0m\u001b[0;34m,\u001b[0m\u001b[0mlongitudes\u001b[0m\u001b[0;34m=\u001b[0m\u001b[0;34m[\u001b[0m\u001b[0;34m'Longitude'\u001b[0m\u001b[0;34m]\u001b[0m\u001b[0;34m)\u001b[0m\u001b[0;34m\u001b[0m\u001b[0;34m\u001b[0m\u001b[0m\n\u001b[0m",
            "\u001b[0;32m<ipython-input-41-8d68d841ea06>\u001b[0m in \u001b[0;36mgetNearbyVenues\u001b[0;34m(names, latitudes, longitudes, radius)\u001b[0m\n\u001b[1;32m     17\u001b[0m \u001b[0;34m\u001b[0m\u001b[0m\n\u001b[1;32m     18\u001b[0m         \u001b[0;31m# make the GET request\u001b[0m\u001b[0;34m\u001b[0m\u001b[0;34m\u001b[0m\u001b[0;34m\u001b[0m\u001b[0m\n\u001b[0;32m---> 19\u001b[0;31m         \u001b[0mresults\u001b[0m \u001b[0;34m=\u001b[0m \u001b[0mrequests\u001b[0m\u001b[0;34m.\u001b[0m\u001b[0mget\u001b[0m\u001b[0;34m(\u001b[0m\u001b[0murl\u001b[0m\u001b[0;34m)\u001b[0m\u001b[0;34m.\u001b[0m\u001b[0mjson\u001b[0m\u001b[0;34m(\u001b[0m\u001b[0;34m)\u001b[0m\u001b[0;34m[\u001b[0m\u001b[0;34m\"response\"\u001b[0m\u001b[0;34m]\u001b[0m\u001b[0;34m[\u001b[0m\u001b[0;34m'groups'\u001b[0m\u001b[0;34m]\u001b[0m\u001b[0;34m[\u001b[0m\u001b[0;36m0\u001b[0m\u001b[0;34m]\u001b[0m\u001b[0;34m[\u001b[0m\u001b[0;34m'items'\u001b[0m\u001b[0;34m]\u001b[0m\u001b[0;34m\u001b[0m\u001b[0;34m\u001b[0m\u001b[0m\n\u001b[0m\u001b[1;32m     20\u001b[0m \u001b[0;34m\u001b[0m\u001b[0m\n\u001b[1;32m     21\u001b[0m         \u001b[0;31m# return only relevant information for each nearby venue\u001b[0m\u001b[0;34m\u001b[0m\u001b[0;34m\u001b[0m\u001b[0;34m\u001b[0m\u001b[0m\n",
            "\u001b[0;31mKeyError\u001b[0m: 'groups'"
          ]
        }
      ]
    },
    {
      "cell_type": "code",
      "metadata": {
        "id": "sPZZxU6-FWFg",
        "outputId": "fe234e40-0564-42e7-ac0a-fe8646401170",
        "colab": {
          "base_uri": "https://localhost:8080/",
          "height": 163
        }
      },
      "source": [
        "vens.head()"
      ],
      "execution_count": 45,
      "outputs": [
        {
          "output_type": "error",
          "ename": "NameError",
          "evalue": "ignored",
          "traceback": [
            "\u001b[0;31m---------------------------------------------------------------------------\u001b[0m",
            "\u001b[0;31mNameError\u001b[0m                                 Traceback (most recent call last)",
            "\u001b[0;32m<ipython-input-45-6d1368292b38>\u001b[0m in \u001b[0;36m<module>\u001b[0;34m()\u001b[0m\n\u001b[0;32m----> 1\u001b[0;31m \u001b[0mvens\u001b[0m\u001b[0;34m.\u001b[0m\u001b[0mhead\u001b[0m\u001b[0;34m(\u001b[0m\u001b[0;34m)\u001b[0m\u001b[0;34m\u001b[0m\u001b[0;34m\u001b[0m\u001b[0m\n\u001b[0m",
            "\u001b[0;31mNameError\u001b[0m: name 'vens' is not defined"
          ]
        }
      ]
    },
    {
      "cell_type": "code",
      "metadata": {
        "id": "OgnP3Y_cFfkj"
      },
      "source": [
        ""
      ],
      "execution_count": null,
      "outputs": []
    },
    {
      "cell_type": "code",
      "metadata": {
        "id": "L7Hk8wscEFSP"
      },
      "source": [
        ""
      ],
      "execution_count": null,
      "outputs": []
    }
  ]
}